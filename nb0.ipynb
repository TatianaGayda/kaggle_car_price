{
 "cells": [
  {
   "cell_type": "code",
   "execution_count": 1,
   "id": "f6837fe1-f711-4700-a2cb-b021529b2e16",
   "metadata": {
    "tags": []
   },
   "outputs": [],
   "source": [
    "import pandas as pd\n",
    "import numpy as np\n",
    "from vininfo import Vin\n",
    "from sklearn.metrics import mean_absolute_percentage_error as MAPE\n",
    "from sklearn.preprocessing import OrdinalEncoder, StandardScaler, TargetEncoder\n",
    "import torch as T\n",
    "import torch.nn as nn\n",
    "from torch.utils.data import Dataset\n",
    "import torch.optim as optim\n",
    "from torch.optim.lr_scheduler import StepLR\n",
    "from sklearn.model_selection import train_test_split\n",
    "from catboost import CatBoostClassifier\n",
    "from tqdm import tqdm\n",
    "\n",
    "pd.options.mode.chained_assignment = None\n",
    "import warnings\n",
    "warnings.filterwarnings(\"ignore\")"
   ]
  },
  {
   "cell_type": "code",
   "execution_count": 2,
   "id": "e68afe97-0174-4b03-924b-512a81f0313b",
   "metadata": {
    "tags": []
   },
   "outputs": [],
   "source": [
    "train_df = pd.read_csv('./train.csv')\n",
    "test_df = pd.read_csv('./test.csv')"
   ]
  },
  {
   "cell_type": "code",
   "execution_count": 3,
   "id": "39b630f0-0ce1-47c9-a716-81dc1612a551",
   "metadata": {
    "tags": []
   },
   "outputs": [
    {
     "name": "stdout",
     "output_type": "stream",
     "text": [
      "<class 'pandas.core.frame.DataFrame'>\n",
      "RangeIndex: 440236 entries, 0 to 440235\n",
      "Data columns (total 15 columns):\n",
      " #   Column        Non-Null Count   Dtype  \n",
      "---  ------        --------------   -----  \n",
      " 0   year          440236 non-null  int64  \n",
      " 1   make          432193 non-null  object \n",
      " 2   model         432113 non-null  object \n",
      " 3   trim          431899 non-null  object \n",
      " 4   body          429843 non-null  object \n",
      " 5   transmission  388775 non-null  object \n",
      " 6   vin           440236 non-null  object \n",
      " 7   state         440236 non-null  object \n",
      " 8   condition     430831 non-null  float64\n",
      " 9   odometer      440167 non-null  float64\n",
      " 10  color         439650 non-null  object \n",
      " 11  interior      439650 non-null  object \n",
      " 12  seller        440236 non-null  object \n",
      " 13  sellingprice  440236 non-null  int64  \n",
      " 14  saledate      440236 non-null  object \n",
      "dtypes: float64(2), int64(2), object(11)\n",
      "memory usage: 50.4+ MB\n",
      "<class 'pandas.core.frame.DataFrame'>\n",
      "RangeIndex: 110058 entries, 0 to 110057\n",
      "Data columns (total 14 columns):\n",
      " #   Column        Non-Null Count   Dtype  \n",
      "---  ------        --------------   -----  \n",
      " 0   year          110058 non-null  int64  \n",
      " 1   make          107997 non-null  object \n",
      " 2   model         107979 non-null  object \n",
      " 3   trim          107944 non-null  object \n",
      " 4   body          107464 non-null  object \n",
      " 5   transmission  97047 non-null   object \n",
      " 6   vin           110058 non-null  object \n",
      " 7   state         110058 non-null  object \n",
      " 8   condition     107679 non-null  float64\n",
      " 9   odometer      110039 non-null  float64\n",
      " 10  color         109900 non-null  object \n",
      " 11  interior      109900 non-null  object \n",
      " 12  seller        110058 non-null  object \n",
      " 13  saledate      110058 non-null  object \n",
      "dtypes: float64(2), int64(1), object(11)\n",
      "memory usage: 11.8+ MB\n",
      "None\n"
     ]
    }
   ],
   "source": [
    "train_df.info()\n",
    "print(test_df.info())"
   ]
  },
  {
   "cell_type": "code",
   "execution_count": 4,
   "id": "2035f4e3-f498-43fc-9195-7f02bde2ccb8",
   "metadata": {
    "tags": []
   },
   "outputs": [
    {
     "name": "stdout",
     "output_type": "stream",
     "text": [
      "transmission    11.689412\n",
      "body             2.360779\n",
      "condition        2.136354\n",
      "trim             1.893757\n",
      "model            1.845147\n",
      "make             1.826975\n",
      "color            0.133110\n",
      "interior         0.133110\n",
      "odometer         0.015673\n",
      "year             0.000000\n",
      "vin              0.000000\n",
      "state            0.000000\n",
      "seller           0.000000\n",
      "sellingprice     0.000000\n",
      "saledate         0.000000\n",
      "dtype: float64\n",
      "--------------------------\n",
      "transmission    2.955460\n",
      "body            0.589229\n",
      "condition       0.540392\n",
      "trim            0.480197\n",
      "model           0.472247\n",
      "make            0.468158\n",
      "color           0.035890\n",
      "interior        0.035890\n",
      "odometer        0.004316\n",
      "year            0.000000\n",
      "vin             0.000000\n",
      "state           0.000000\n",
      "seller          0.000000\n",
      "saledate        0.000000\n",
      "dtype: float64\n"
     ]
    }
   ],
   "source": [
    "print(100*(train_df.isnull().sum()/len(train_df)).sort_values(ascending=False))\n",
    "print('--------------------------')\n",
    "print(100*(test_df.isnull().sum()/len(train_df)).sort_values(ascending=False))"
   ]
  },
  {
   "cell_type": "markdown",
   "id": "563282f5-11db-4217-8723-83ce8316ff8d",
   "metadata": {},
   "source": [
    "Посмотрим, есть ли явные дубликаты"
   ]
  },
  {
   "cell_type": "code",
   "execution_count": 5,
   "id": "5323ac31-0bb9-4668-a6bc-6ac8d16150d9",
   "metadata": {
    "tags": []
   },
   "outputs": [
    {
     "data": {
      "text/plain": [
       "0"
      ]
     },
     "execution_count": 5,
     "metadata": {},
     "output_type": "execute_result"
    }
   ],
   "source": [
    "train_df.duplicated().sum()"
   ]
  },
  {
   "cell_type": "markdown",
   "id": "aa520a3e-a93e-4010-8f88-23765d1b512c",
   "metadata": {},
   "source": [
    "С помощью vin заполним пропуски и избавимся от неявных дубликатов в колонке make с информацией о марке авто, а также - обработаем неявные дубликаты."
   ]
  },
  {
   "cell_type": "code",
   "execution_count": 6,
   "id": "7851f7c7-dbd8-4f76-8f9e-f3b79ffa7612",
   "metadata": {
    "tags": []
   },
   "outputs": [],
   "source": [
    "#\n",
    "def model_parsing(s):\n",
    "    vn = Vin(s['vin'].upper())\n",
    "    vin_make = vn.annotate()['Manufacturer'].lower()\n",
    "    df_make = str(s['make']).lower()\n",
    "    if len(vin_make) > len(df_make) and df_make != 'nan':\n",
    "        return df_make\n",
    "    else:\n",
    "        return vin_make\n",
    "\n",
    "    \n",
    "train_df['make'] = train_df.apply(model_parsing, axis=1)"
   ]
  },
  {
   "cell_type": "code",
   "execution_count": 7,
   "id": "ea05957d-0c7e-4718-8394-1f31bad4c03b",
   "metadata": {
    "tags": []
   },
   "outputs": [
    {
     "data": {
      "text/plain": [
       "count       77.000000\n",
       "mean      5717.350649\n",
       "std      12515.808225\n",
       "min          1.000000\n",
       "25%         19.000000\n",
       "50%        809.000000\n",
       "75%       4670.000000\n",
       "max      75300.000000\n",
       "Name: state, dtype: float64"
      ]
     },
     "execution_count": 7,
     "metadata": {},
     "output_type": "execute_result"
    }
   ],
   "source": [
    "train_df.groupby('make')['state'].count().describe()"
   ]
  },
  {
   "cell_type": "code",
   "execution_count": 8,
   "id": "13f9e89c-a4ea-49db-9672-8e338099321d",
   "metadata": {
    "tags": []
   },
   "outputs": [],
   "source": [
    "few = []\n",
    "more = []"
   ]
  },
  {
   "cell_type": "code",
   "execution_count": 9,
   "id": "5d240f66-451d-4bdb-91d0-954f5517ca31",
   "metadata": {
    "tags": []
   },
   "outputs": [
    {
     "data": {
      "text/plain": [
       "make\n",
       "dot                                1\n",
       "airstream                          1\n",
       "volkswagen commercial vehicles     1\n",
       "bmw m                              1\n",
       "porsche suv                        1\n",
       "daewoo                             1\n",
       "mercedes-b                         2\n",
       "am                                 3\n",
       "mercedes-benz (sprinter)           4\n",
       "unsupportedbrand                   4\n",
       "lamborghini                        4\n",
       "fisker                             7\n",
       "daimler ag (sprinter)              9\n",
       "rolls royce                       14\n",
       "geo                               16\n",
       "tesla                             17\n",
       "ferrari                           18\n",
       "vw                                18\n",
       "landrover                         19\n",
       "daimlerchrysler ag/daimler ag     19\n",
       "gmc truck                         20\n",
       "aston martin                      23\n",
       "chevrolet canada                  39\n",
       "plymouth                          41\n",
       "mercedes                          61\n",
       "Name: state, dtype: int64"
      ]
     },
     "execution_count": 9,
     "metadata": {},
     "output_type": "execute_result"
    }
   ],
   "source": [
    "train_df.groupby('make')['state'].count().sort_values().head(25)"
   ]
  },
  {
   "cell_type": "code",
   "execution_count": 10,
   "id": "92e806c2-3077-4e8d-86dc-84fd21a89d63",
   "metadata": {
    "tags": []
   },
   "outputs": [
    {
     "name": "stdout",
     "output_type": "stream",
     "text": [
      "['airstream', 'am', 'bmw m', 'daewoo', 'daimler ag (sprinter)', 'dot', 'fisker', 'lamborghini', 'mercedes-b', 'mercedes-benz (sprinter)', 'porsche suv', 'unsupportedbrand', 'volkswagen commercial vehicles']\n",
      "['acura', 'aston martin', 'audi', 'bentley', 'bmw', 'buick', 'cadillac', 'cami', 'chevrolet', 'chevrolet canada', 'chevrolet mexico', 'chevrolet usa', 'chrysler', 'chrysler canada', 'daimlerchrysler ag/daimler ag', 'dodge', 'dodge canada', 'dodge mexico', 'ferrari', 'fiat', 'ford', 'genesis', 'geo', 'gmc', 'gmc truck', 'honda', 'hummer', 'hyundai', 'infiniti', 'isuzu', 'jaguar', 'jeep', 'kia', 'land rover', 'landrover', 'lexus', 'lincoln', 'maserati', 'mazda', 'mercedes', 'mercedes-benz', 'mercury', 'mini', 'mitsubishi', 'nissan', 'nummi', 'oldsmobile', 'plymouth', 'pontiac', 'porsche', 'porsche car', 'ram', 'rolls royce', 'saab', 'saturn', 'scion', 'smart', 'subaru', 'suzuki', 'tesla', 'toyota', 'volkswagen', 'volvo', 'vw']\n"
     ]
    }
   ],
   "source": [
    "for brand, count in train_df.groupby('make')['state'].count().to_dict().items():\n",
    "    if count < 10: few.append(brand)\n",
    "    else: more.append(brand)\n",
    "print(sorted(few))\n",
    "print(sorted(more))"
   ]
  },
  {
   "cell_type": "code",
   "execution_count": 11,
   "id": "c9ee4006-e661-402c-a357-7ce3636fcf1d",
   "metadata": {
    "tags": []
   },
   "outputs": [],
   "source": [
    "def cut_brands(m):\n",
    "    for r_m in more:\n",
    "        if m == ''.join(str(l[0]) for l in r_m.split(' ')) or m == r_m[0]+r_m[len(r_m)//2] or r_m in m or m == r_m.replace(' ', ''):\n",
    "            return r_m\n",
    "    if m in few:\n",
    "        return None"
   ]
  },
  {
   "cell_type": "code",
   "execution_count": 12,
   "id": "86e9ec1b-7d7d-47eb-96d3-6d283a0c9ebb",
   "metadata": {
    "tags": []
   },
   "outputs": [],
   "source": [
    "train_df['make_filtered'] = train_df['make'].apply(cut_brands)"
   ]
  },
  {
   "cell_type": "code",
   "execution_count": 13,
   "id": "68ba1767-55a7-4e9f-8ca8-7bdec3b41e2a",
   "metadata": {
    "tags": []
   },
   "outputs": [
    {
     "data": {
      "text/plain": [
       "array(['ford', 'nissan', 'hummer', 'lincoln', 'pontiac', 'genesis',\n",
       "       'toyota', 'buick', 'chevrolet', 'honda', 'acura', 'cadillac',\n",
       "       'gmc', 'saab', 'dodge', 'mercedes', 'volkswagen', 'mazda', 'bmw',\n",
       "       'chrysler', 'hyundai', 'kia', 'jaguar', 'subaru', 'jeep', 'lexus',\n",
       "       'scion', 'fiat', 'suzuki', 'land rover', 'volvo', 'audi', 'nummi',\n",
       "       'cami', 'infiniti', 'mini', 'isuzu', 'mitsubishi', 'smart',\n",
       "       'porsche', 'saturn', 'ram', 'oldsmobile', 'mercury', 'bentley',\n",
       "       None, 'maserati', 'tesla', 'aston martin', 'rolls royce',\n",
       "       'ferrari', 'plymouth', 'geo'], dtype=object)"
      ]
     },
     "execution_count": 13,
     "metadata": {},
     "output_type": "execute_result"
    }
   ],
   "source": [
    "train_df['make_filtered'].unique()"
   ]
  },
  {
   "cell_type": "code",
   "execution_count": 14,
   "id": "b45ce593-1b23-4098-9458-28a0439f41a4",
   "metadata": {
    "tags": []
   },
   "outputs": [
    {
     "data": {
      "text/plain": [
       "53"
      ]
     },
     "execution_count": 14,
     "metadata": {},
     "output_type": "execute_result"
    }
   ],
   "source": [
    "len(train_df['make_filtered'].unique())"
   ]
  },
  {
   "cell_type": "code",
   "execution_count": 15,
   "id": "025b6274-3065-4758-92d5-924875eb0017",
   "metadata": {
    "tags": []
   },
   "outputs": [
    {
     "data": {
      "text/plain": [
       "77"
      ]
     },
     "execution_count": 15,
     "metadata": {},
     "output_type": "execute_result"
    }
   ],
   "source": [
    "len(train_df['make'].unique())"
   ]
  },
  {
   "cell_type": "code",
   "execution_count": 16,
   "id": "fbbf58e5-4b0e-4bb5-aa06-d4a9e7481feb",
   "metadata": {
    "tags": []
   },
   "outputs": [],
   "source": [
    "train_df = train_df.dropna(subset=['make_filtered'])"
   ]
  },
  {
   "cell_type": "code",
   "execution_count": 17,
   "id": "bad9c4f6-5bee-416b-ae14-d9ce1133d69b",
   "metadata": {
    "tags": []
   },
   "outputs": [
    {
     "data": {
      "text/plain": [
       "52"
      ]
     },
     "execution_count": 17,
     "metadata": {},
     "output_type": "execute_result"
    }
   ],
   "source": [
    "len(train_df['make_filtered'].unique())"
   ]
  },
  {
   "cell_type": "code",
   "execution_count": 18,
   "id": "5f389ab3-766c-408c-8230-5e9d672d4ca8",
   "metadata": {
    "tags": []
   },
   "outputs": [],
   "source": [
    "train_df['make'] = train_df['make_filtered']\n",
    "train_df = train_df.drop(columns='make_filtered')"
   ]
  },
  {
   "cell_type": "markdown",
   "id": "a87f10c2-adb7-43ed-b4e9-dbb12ae04d1c",
   "metadata": {},
   "source": [
    "Теперь в датасете осталась информация о 52 брендах."
   ]
  },
  {
   "cell_type": "code",
   "execution_count": 19,
   "id": "8a17de60-44fc-43da-9a1a-6073352a64b6",
   "metadata": {
    "tags": []
   },
   "outputs": [
    {
     "data": {
      "text/plain": [
       "956"
      ]
     },
     "execution_count": 19,
     "metadata": {},
     "output_type": "execute_result"
    }
   ],
   "source": [
    "len(train_df['model'].unique())"
   ]
  },
  {
   "cell_type": "code",
   "execution_count": 20,
   "id": "371c4d1b-799e-4b2f-9c03-11db83388144",
   "metadata": {
    "tags": []
   },
   "outputs": [
    {
     "data": {
      "text/plain": [
       "{'Corsica': 1,\n",
       " 'b2300': 1,\n",
       " 'B-Series': 1,\n",
       " 'aveo': 1,\n",
       " 'avenger': 1,\n",
       " 'pt': 1,\n",
       " 'pursuit': 1,\n",
       " 'avalon': 1,\n",
       " 'alp': 1,\n",
       " 'a6': 1,\n",
       " 'ram3500': 1,\n",
       " 'Equator': 1,\n",
       " 'Tempo': 1,\n",
       " 'Aspire': 1,\n",
       " 'rio': 1,\n",
       " 'f350': 1,\n",
       " 'rrs': 1,\n",
       " 'Spirit': 1,\n",
       " 'ActiveHybrid 5': 1,\n",
       " 'Sierra 1500 Hybrid': 1}"
      ]
     },
     "execution_count": 20,
     "metadata": {},
     "output_type": "execute_result"
    }
   ],
   "source": [
    "train_df.groupby('model')['state'].count().sort_values().head(20).to_dict() # преобразуем в словарь, чтобы увидеть пропуски в конце (в данном случае их нет)"
   ]
  },
  {
   "cell_type": "code",
   "execution_count": 21,
   "id": "752ab540-e790-41c7-8772-3e2e670d5c20",
   "metadata": {
    "tags": []
   },
   "outputs": [],
   "source": [
    "def strp(r):\n",
    "    return str(r).strip()"
   ]
  },
  {
   "cell_type": "code",
   "execution_count": 22,
   "id": "9b8529af-6d51-4df2-a2bc-55deab310c2b",
   "metadata": {
    "tags": []
   },
   "outputs": [],
   "source": [
    "train_df['model_striped'] = train_df['model'].apply(strp)"
   ]
  },
  {
   "cell_type": "code",
   "execution_count": 23,
   "id": "46a6066a-7f9e-486b-ba64-65cc6676efcf",
   "metadata": {
    "tags": []
   },
   "outputs": [
    {
     "data": {
      "text/plain": [
       "956"
      ]
     },
     "execution_count": 23,
     "metadata": {},
     "output_type": "execute_result"
    }
   ],
   "source": [
    "len(train_df['model_striped'].unique())"
   ]
  },
  {
   "cell_type": "code",
   "execution_count": 24,
   "id": "3a2099e6-8062-4d9f-9fbb-2936c9575b2f",
   "metadata": {
    "tags": []
   },
   "outputs": [],
   "source": [
    "train_df = train_df.drop(columns='model_striped')"
   ]
  },
  {
   "cell_type": "code",
   "execution_count": 25,
   "id": "af926bec-5f92-430a-9a71-7ad7c9a01265",
   "metadata": {
    "tags": []
   },
   "outputs": [
    {
     "data": {
      "text/plain": [
       "transmission    11.689902\n",
       "body             2.357517\n",
       "condition        2.136485\n",
       "trim             1.890693\n",
       "model            1.842307\n",
       "color            0.133119\n",
       "interior         0.133119\n",
       "odometer         0.015674\n",
       "year             0.000000\n",
       "make             0.000000\n",
       "vin              0.000000\n",
       "state            0.000000\n",
       "seller           0.000000\n",
       "sellingprice     0.000000\n",
       "saledate         0.000000\n",
       "dtype: float64"
      ]
     },
     "execution_count": 25,
     "metadata": {},
     "output_type": "execute_result"
    }
   ],
   "source": [
    "100*(train_df.isnull().sum()/len(train_df)).sort_values(ascending=False)"
   ]
  },
  {
   "cell_type": "markdown",
   "id": "3edf6d55-21f6-4a2c-9725-973d69800cb2",
   "metadata": {},
   "source": [
    "Посмотрим, как распределены данные с пропусками."
   ]
  },
  {
   "cell_type": "code",
   "execution_count": 26,
   "id": "b19e1927-bd8c-4e86-842f-82a186a6d8a1",
   "metadata": {
    "tags": []
   },
   "outputs": [
    {
     "data": {
      "text/plain": [
       "<Axes: >"
      ]
     },
     "execution_count": 26,
     "metadata": {},
     "output_type": "execute_result"
    },
    {
     "data": {
      "image/png": "[encoded data removed]",
      "text/plain": [
       "<Figure size 640x480 with 1 Axes>"
      ]
     },
     "metadata": {},
     "output_type": "display_data"
    }
   ],
   "source": [
    "train_df['sellingprice'].plot(kind='box')"
   ]
  },
  {
   "cell_type": "code",
   "execution_count": 27,
   "id": "79c38a4c-0c4c-4269-8a61-079213e0a1da",
   "metadata": {
    "tags": []
   },
   "outputs": [
    {
     "data": {
      "text/plain": [
       "count    440209.000000\n",
       "mean      13590.399856\n",
       "std        9745.050311\n",
       "min           1.000000\n",
       "25%        6900.000000\n",
       "50%       12100.000000\n",
       "75%       18200.000000\n",
       "max      230000.000000\n",
       "Name: sellingprice, dtype: float64"
      ]
     },
     "execution_count": 27,
     "metadata": {},
     "output_type": "execute_result"
    }
   ],
   "source": [
    "train_df['sellingprice'].describe()"
   ]
  },
  {
   "cell_type": "code",
   "execution_count": 28,
   "id": "b9d49749-a2f6-4c6e-95f3-2fe9c00fd09c",
   "metadata": {
    "tags": []
   },
   "outputs": [
    {
     "data": {
      "text/html": [
       "<div>\n",
       "<style scoped>\n",
       "    .dataframe tbody tr th:only-of-type {\n",
       "        vertical-align: middle;\n",
       "    }\n",
       "\n",
       "    .dataframe tbody tr th {\n",
       "        vertical-align: top;\n",
       "    }\n",
       "\n",
       "    .dataframe thead th {\n",
       "        text-align: right;\n",
       "    }\n",
       "</style>\n",
       "<table border=\"1\" class=\"dataframe\">\n",
       "  <thead>\n",
       "    <tr style=\"text-align: right;\">\n",
       "      <th></th>\n",
       "      <th>year</th>\n",
       "      <th>condition</th>\n",
       "      <th>odometer</th>\n",
       "      <th>sellingprice</th>\n",
       "    </tr>\n",
       "  </thead>\n",
       "  <tbody>\n",
       "    <tr>\n",
       "      <th>count</th>\n",
       "      <td>69.000000</td>\n",
       "      <td>20.000000</td>\n",
       "      <td>0.0</td>\n",
       "      <td>69.000000</td>\n",
       "    </tr>\n",
       "    <tr>\n",
       "      <th>mean</th>\n",
       "      <td>2003.913043</td>\n",
       "      <td>2.570000</td>\n",
       "      <td>NaN</td>\n",
       "      <td>4899.434783</td>\n",
       "    </tr>\n",
       "    <tr>\n",
       "      <th>std</th>\n",
       "      <td>4.477851</td>\n",
       "      <td>1.054863</td>\n",
       "      <td>NaN</td>\n",
       "      <td>7724.674869</td>\n",
       "    </tr>\n",
       "    <tr>\n",
       "      <th>min</th>\n",
       "      <td>1995.000000</td>\n",
       "      <td>1.000000</td>\n",
       "      <td>NaN</td>\n",
       "      <td>1.000000</td>\n",
       "    </tr>\n",
       "    <tr>\n",
       "      <th>25%</th>\n",
       "      <td>2001.000000</td>\n",
       "      <td>1.900000</td>\n",
       "      <td>NaN</td>\n",
       "      <td>500.000000</td>\n",
       "    </tr>\n",
       "    <tr>\n",
       "      <th>50%</th>\n",
       "      <td>2003.000000</td>\n",
       "      <td>2.100000</td>\n",
       "      <td>NaN</td>\n",
       "      <td>1200.000000</td>\n",
       "    </tr>\n",
       "    <tr>\n",
       "      <th>75%</th>\n",
       "      <td>2006.000000</td>\n",
       "      <td>3.250000</td>\n",
       "      <td>NaN</td>\n",
       "      <td>4700.000000</td>\n",
       "    </tr>\n",
       "    <tr>\n",
       "      <th>max</th>\n",
       "      <td>2014.000000</td>\n",
       "      <td>4.600000</td>\n",
       "      <td>NaN</td>\n",
       "      <td>35000.000000</td>\n",
       "    </tr>\n",
       "  </tbody>\n",
       "</table>\n",
       "</div>"
      ],
      "text/plain": [
       "              year  condition  odometer  sellingprice\n",
       "count    69.000000  20.000000       0.0     69.000000\n",
       "mean   2003.913043   2.570000       NaN   4899.434783\n",
       "std       4.477851   1.054863       NaN   7724.674869\n",
       "min    1995.000000   1.000000       NaN      1.000000\n",
       "25%    2001.000000   1.900000       NaN    500.000000\n",
       "50%    2003.000000   2.100000       NaN   1200.000000\n",
       "75%    2006.000000   3.250000       NaN   4700.000000\n",
       "max    2014.000000   4.600000       NaN  35000.000000"
      ]
     },
     "execution_count": 28,
     "metadata": {},
     "output_type": "execute_result"
    }
   ],
   "source": [
    "train_df[train_df['odometer'].isnull()].describe()"
   ]
  },
  {
   "cell_type": "markdown",
   "id": "11430c7d-21d3-4579-98b0-6051920c5465",
   "metadata": {},
   "source": [
    "Для заполнения пропусков в колонках transmission, body и condition построим модели."
   ]
  },
  {
   "cell_type": "code",
   "execution_count": 31,
   "id": "7728a788-a600-4bbb-8494-ec6b05648ce3",
   "metadata": {
    "tags": []
   },
   "outputs": [],
   "source": [
    "oe_features = train_df.select_dtypes(include='object').columns.to_list()\n",
    "num_features = train_df.select_dtypes(exclude='object').columns.to_list()"
   ]
  },
  {
   "cell_type": "code",
   "execution_count": 32,
   "id": "828b7e80-ae6b-4e91-b9e4-6715b4ea3170",
   "metadata": {
    "tags": []
   },
   "outputs": [
    {
     "data": {
      "text/plain": [
       "['make',\n",
       " 'model',\n",
       " 'trim',\n",
       " 'body',\n",
       " 'transmission',\n",
       " 'vin',\n",
       " 'state',\n",
       " 'color',\n",
       " 'interior',\n",
       " 'seller',\n",
       " 'saledate']"
      ]
     },
     "execution_count": 32,
     "metadata": {},
     "output_type": "execute_result"
    }
   ],
   "source": [
    "oe_features"
   ]
  },
  {
   "cell_type": "code",
   "execution_count": 33,
   "id": "d7f7f73e-66d3-44e0-8fe7-7bb0a9eeec5d",
   "metadata": {
    "tags": []
   },
   "outputs": [
    {
     "data": {
      "text/plain": [
       "array(['suv', 'Sedan', 'sedan', nan, 'SUV', 'wagon', 'Minivan',\n",
       "       'Extended Cab', 'Regular Cab', 'Coupe', 'SuperCrew', 'Wagon',\n",
       "       'convertible', 'Crew Cab', 'SuperCab', 'Convertible', 'Hatchback',\n",
       "       'minivan', 'hatchback', 'G Coupe', 'G Convertible', 'coupe',\n",
       "       'Access Cab', 'G Sedan', 'regular cab', 'e-series van',\n",
       "       'supercrew', 'Quad Cab', 'tsx sport wagon', 'Van', 'g sedan',\n",
       "       'E-Series Van', 'CTS Coupe', 'Koup', 'King Cab', 'extended cab',\n",
       "       'double cab', 'Elantra Coupe', 'koup', 'access cab', 'Double Cab',\n",
       "       'crew cab', 'quad cab', 'g coupe', 'CrewMax Cab', 'supercab',\n",
       "       'g convertible', 'Genesis Coupe', 'van', 'G37 Coupe', 'club cab',\n",
       "       'Beetle Convertible', 'Mega Cab', 'regular-cab', 'Xtracab',\n",
       "       'cts coupe', 'genesis coupe', 'Club Cab', 'q60 coupe', 'mega cab',\n",
       "       'crewmax cab', 'Promaster Cargo Van', 'king cab', 'CTS-V Coupe',\n",
       "       'TSX Sport Wagon', 'CTS Wagon', 'Cab Plus 4', 'G37 Convertible',\n",
       "       'Transit Van', 'Q60 Convertible', 'elantra coupe',\n",
       "       'beetle convertible', 'Q60 Coupe', 'promaster cargo van',\n",
       "       'Cab Plus', 'transit van', 'g37 convertible', 'g37 coupe',\n",
       "       'Ram Van', 'granturismo convertible', 'GranTurismo Convertible',\n",
       "       'cab plus 4', 'xtracab', 'cts-v coupe', 'q60 convertible',\n",
       "       'CTS-V Wagon'], dtype=object)"
      ]
     },
     "execution_count": 33,
     "metadata": {},
     "output_type": "execute_result"
    }
   ],
   "source": [
    "train_df['body'].unique()"
   ]
  },
  {
   "cell_type": "code",
   "execution_count": 34,
   "id": "33ae5539-f4fc-477c-929c-f0785a500ba4",
   "metadata": {
    "tags": []
   },
   "outputs": [
    {
     "data": {
      "text/plain": [
       "['year', 'condition', 'odometer', 'sellingprice']"
      ]
     },
     "execution_count": 34,
     "metadata": {},
     "output_type": "execute_result"
    }
   ],
   "source": [
    "num_features"
   ]
  },
  {
   "cell_type": "code",
   "execution_count": 35,
   "id": "a49ce840-0f9b-4954-a916-5c30d9b30a38",
   "metadata": {
    "tags": []
   },
   "outputs": [],
   "source": [
    "def less_classes(c, d, param):\n",
    "    m = c[param]\n",
    "    if d[str(m)] < 50:\n",
    "        return 'other'\n",
    "    else:\n",
    "        return str(m)\n"
   ]
  },
  {
   "cell_type": "code",
   "execution_count": 36,
   "id": "a15c5f0e-3d02-411b-a4c1-71e48151fa6b",
   "metadata": {
    "tags": []
   },
   "outputs": [],
   "source": [
    "train_df['model'] = train_df.apply(func=less_classes, axis=1, param='model', d=dict(train_df['model'].astype('str').value_counts()))"
   ]
  },
  {
   "cell_type": "code",
   "execution_count": 37,
   "id": "0a5f69af-6db2-416a-bb81-2ca5a50b4bf2",
   "metadata": {
    "tags": []
   },
   "outputs": [],
   "source": [
    "train_df['trim'] = train_df.apply(func=less_classes, axis=1, param='trim', d=dict(train_df['trim'].astype('str').value_counts()))"
   ]
  },
  {
   "cell_type": "code",
   "execution_count": null,
   "id": "03c1c4d2-1035-44e0-b0e7-1cb67e5586b9",
   "metadata": {
    "tags": []
   },
   "outputs": [],
   "source": [
    "train_df['seller'] = train_df.apply(func=less_classes, axis=1, param='seller', d=dict(train_df['seller'].astype('str').value_counts()))"
   ]
  },
  {
   "cell_type": "code",
   "execution_count": null,
   "id": "9d5c78ff-950a-4550-aee6-ee343b46f78d",
   "metadata": {
    "tags": []
   },
   "outputs": [],
   "source": [
    "train_df.columns"
   ]
  },
  {
   "cell_type": "markdown",
   "id": "53f74841-f76d-4e67-a6bd-6c8f54d05fee",
   "metadata": {},
   "source": [
    "### Fill transmission"
   ]
  },
  {
   "cell_type": "code",
   "execution_count": null,
   "id": "1b495473-48c0-4d0a-b069-268005a513f5",
   "metadata": {
    "tags": []
   },
   "outputs": [],
   "source": [
    "import gc\n",
    "gc.collect()\n",
    "df = train_df.drop(columns=['vin'])\n",
    "# кодирование данных\n",
    "train_ftrs = df.dropna(subset=['transmission'])\n",
    "train_ftrs_no_trnsm = train_ftrs.drop(columns=['transmission'])\n",
    "fill_ftrs = df[df['transmission'].isna()].drop(columns=['transmission'])\n",
    "\n",
    "ftrs = pd.concat([train_ftrs_no_trnsm, fill_ftrs])\n",
    "train_trnsm_target = train_ftrs['transmission']\n",
    "\n",
    "ftrs_ohe = pd.get_dummies(ftrs, drop_first=True)\n",
    "\n",
    "train_ftrs_ohe = ftrs_ohe[:len(train_ftrs)]\n",
    "fill_ftrs_ohe = ftrs_ohe[len(train_ftrs):]"
   ]
  },
  {
   "cell_type": "code",
   "execution_count": null,
   "id": "07c099f9-9184-458b-b4cc-c42ebb07c45f",
   "metadata": {
    "tags": []
   },
   "outputs": [],
   "source": [
    "model = CatBoostClassifier(iterations=1000,\n",
    "                           task_type=\"GPU\",\n",
    "                           devices='0')\n",
    "\n",
    "\n",
    "model.fit(train_ftrs_ohe,\n",
    "          train_trnsm_target,\n",
    "          verbose=False)"
   ]
  },
  {
   "cell_type": "code",
   "execution_count": null,
   "id": "ce1d3f3e-e249-4219-bfcb-d5ad8bfaf12c",
   "metadata": {
    "tags": []
   },
   "outputs": [],
   "source": [
    "from tqdm import tqdm\n",
    "from tqdm.gui import tqdm as tqdm_gui\n",
    "tqdm.pandas(ncols=50)\n",
    "\n",
    "def fill_transmission(s, ohe):\n",
    "    if s.values[0] not in ['automatic', 'manual']:\n",
    "        ohe_sample = ohe.loc[[s.name]]\n",
    "        t = model.predict(ohe_sample, task_type='GPU')\n",
    "        # print('0', t[0])\n",
    "        return t[0]\n",
    "    else:\n",
    "        # print('1', s.values[0])\n",
    "        return s.values[0]\n",
    "\n",
    "train_df['transmission_'] = train_df[['transmission']].progress_apply(fill_transmission, ohe=fill_ftrs_ohe, axis=1)\n",
    "# data = pd.get_dummies(train_df.drop(columns=['transmission', 'vin']), drop_first=True)\n",
    "# train_df['transmission'].fillna(model.predict(data.to('cuda')))"
   ]
  },
  {
   "cell_type": "code",
   "execution_count": null,
   "id": "05ea9ba6-5575-4420-9015-06e413de1b55",
   "metadata": {},
   "outputs": [],
   "source": [
    "# import os  \n",
    "\n",
    "# os.makedirs('./DATA', exist_ok=True)  \n",
    "\n",
    "# train_df.to_csv('./DATA/data.csv')"
   ]
  },
  {
   "cell_type": "code",
   "execution_count": null,
   "id": "7d7ecb7b-fdff-4d92-8ad5-49139d4c6f75",
   "metadata": {},
   "outputs": [],
   "source": [
    "train_df = pd.read_csv('./DATA/data.csv')\n",
    "test_df = pd.read_csv('./test.csv')"
   ]
  },
  {
   "cell_type": "code",
   "execution_count": null,
   "id": "cb9c8f3d-63e7-4007-b45d-dd639fe5a7b6",
   "metadata": {
    "tags": []
   },
   "outputs": [],
   "source": [
    "train_df['transmission_'].unique()"
   ]
  },
  {
   "cell_type": "code",
   "execution_count": null,
   "id": "fc08ec77-5379-4488-836a-a63240bb1c11",
   "metadata": {},
   "outputs": [],
   "source": [
    "body_uniq = train_df['body'].unique()"
   ]
  },
  {
   "cell_type": "markdown",
   "id": "c3ec5837-1894-4060-9b22-11069158fe63",
   "metadata": {},
   "source": [
    "### Fill body"
   ]
  },
  {
   "cell_type": "code",
   "execution_count": null,
   "id": "14ffd625-de09-486a-b5df-8fd1100f6d18",
   "metadata": {},
   "outputs": [],
   "source": [
    "import gc\n",
    "gc.collect()\n",
    "df = train_df.drop(columns=['vin'])\n",
    "# кодирование данных\n",
    "train_ftrs = df.dropna(subset=['body'])\n",
    "train_ftrs_no_trnsm = train_ftrs.drop(columns=['body'])\n",
    "fill_ftrs = df[df['body'].isna()].drop(columns=['body'])\n",
    "\n",
    "ftrs = pd.concat([train_ftrs_no_trnsm, fill_ftrs])\n",
    "train_trnsm_target = train_ftrs['body']\n",
    "\n",
    "ftrs_ohe = pd.get_dummies(ftrs, drop_first=True)\n",
    "\n",
    "train_ftrs_ohe = ftrs_ohe[:len(train_ftrs)]\n",
    "fill_ftrs_ohe = ftrs_ohe[len(train_ftrs):]"
   ]
  },
  {
   "cell_type": "code",
   "execution_count": null,
   "id": "64850b1a-fb7e-4be4-a55f-ca5e69299a37",
   "metadata": {},
   "outputs": [],
   "source": [
    "model = CatBoostClassifier(iterations=1000,\n",
    "                           task_type=\"GPU\",\n",
    "                           devices='0')\n",
    "\n",
    "\n",
    "model.fit(train_ftrs_ohe,\n",
    "          train_trnsm_target,\n",
    "          verbose=False)"
   ]
  },
  {
   "cell_type": "code",
   "execution_count": null,
   "id": "b9258350-454b-4bc2-993a-b345350e2ee3",
   "metadata": {},
   "outputs": [],
   "source": [
    "from tqdm import tqdm\n",
    "from tqdm.gui import tqdm as tqdm_gui\n",
    "tqdm.pandas(ncols=50)\n",
    "\n",
    "def fill_body(s, ohe, body_uniq):\n",
    "    if s.values[0] not in body_uniq:\n",
    "        ohe_sample = ohe.loc[[s.name]]\n",
    "        t = model.predict(ohe_sample)#, task_type='GPU')\n",
    "        # print('0', t[0][0])\n",
    "        return t[0][0]\n",
    "    else:\n",
    "        # print('1', s.values[0])\n",
    "        return s.values[0]\n",
    "\n",
    "train_df['body_'] = train_df[['body']].progress_apply(fill_body, ohe=fill_ftrs_ohe, body_uniq=body_uniq, axis=1)\n",
    "# data = pd.get_dummies(train_df.drop(columns=['transmission', 'vin']), drop_first=True)\n",
    "# train_df['transmission'].fillna(model.predict(data.to('cuda')))"
   ]
  },
  {
   "cell_type": "code",
   "execution_count": null,
   "id": "b773f4c6-5d3d-485d-b298-c1a280af27f8",
   "metadata": {},
   "outputs": [],
   "source": [
    "# import os  \n",
    "\n",
    "# os.makedirs('./DATA', exist_ok=True)  \n",
    "\n",
    "# train_df.to_csv('./DATA/data2.csv')"
   ]
  },
  {
   "cell_type": "code",
   "execution_count": null,
   "id": "cb4125f5-6fff-4f23-95fc-68b602330afb",
   "metadata": {},
   "outputs": [],
   "source": [
    "train_df = train_df.drop(columns=['body', 'transmission'])\n"
   ]
  },
  {
   "cell_type": "code",
   "execution_count": null,
   "id": "f2be775f-8ec4-4fca-abce-c769a2bc84c3",
   "metadata": {},
   "outputs": [],
   "source": [
    "train_df.rename(columns={\"body_\": \"body\", \"transmission_\": \"transmission\"}, inplace=True)"
   ]
  },
  {
   "cell_type": "code",
   "execution_count": null,
   "id": "9490d493-824a-4f8e-a395-9829ca673541",
   "metadata": {},
   "outputs": [],
   "source": [
    "print(100*(train_df.isnull().sum()/len(train_df)).sort_values(ascending=False))"
   ]
  },
  {
   "cell_type": "markdown",
   "id": "d942257a-9cab-41f7-ac88-c13cb256e99c",
   "metadata": {},
   "source": [
    "### Fill condition"
   ]
  },
  {
   "cell_type": "code",
   "execution_count": null,
   "id": "996fc1bf-2cad-4864-892d-d70958240bf5",
   "metadata": {},
   "outputs": [],
   "source": [
    "import gc\n",
    "gc.collect()\n",
    "df = train_df.drop(columns=['vin'])\n",
    "# кодирование данных\n",
    "train_ftrs = df.dropna(subset=['condition'])\n",
    "train_ftrs_no_trnsm = train_ftrs.drop(columns=['condition'])\n",
    "fill_ftrs = df[df['condition'].isna()].drop(columns=['condition'])\n",
    "\n",
    "ftrs = pd.concat([train_ftrs_no_trnsm, fill_ftrs])\n",
    "train_trnsm_target = train_ftrs['condition']\n",
    "\n",
    "ftrs_ohe = pd.get_dummies(ftrs, drop_first=True)\n",
    "\n",
    "train_ftrs_ohe = ftrs_ohe[:len(train_ftrs)]\n",
    "fill_ftrs_ohe = ftrs_ohe[len(train_ftrs):]"
   ]
  },
  {
   "cell_type": "code",
   "execution_count": null,
   "id": "debc9eac-332c-4d3a-9633-6ba4865e83ab",
   "metadata": {},
   "outputs": [],
   "source": [
    "model = CatBoostClassifier(iterations=1000,\n",
    "                           task_type=\"GPU\",\n",
    "                           devices='0')\n",
    "\n",
    "\n",
    "model.fit(train_ftrs_ohe,\n",
    "          train_trnsm_target,\n",
    "          verbose=False)"
   ]
  },
  {
   "cell_type": "code",
   "execution_count": null,
   "id": "f55af37f-55e8-4a10-8e50-2d0796e35988",
   "metadata": {},
   "outputs": [],
   "source": [
    "condition_uniq = train_df['condition'].dropna().unique()"
   ]
  },
  {
   "cell_type": "code",
   "execution_count": null,
   "id": "d2663ae9-bf6e-45ac-906d-534c4e36668e",
   "metadata": {
    "tags": []
   },
   "outputs": [],
   "source": [
    "from tqdm import tqdm\n",
    "from tqdm.gui import tqdm as tqdm_gui\n",
    "tqdm.pandas(ncols=50)\n",
    "\n",
    "def fill_condition(s, ohe, condition_uniq):\n",
    "    if s.values[0] not in condition_uniq:\n",
    "        ohe_sample = ohe.loc[[s.name]]\n",
    "        t = model.predict(ohe_sample)#, task_type='GPU')\n",
    "        # print('0', round(t[0][0], 1))\n",
    "        return round(t[0][0], 1)\n",
    "    else:\n",
    "        # print('1', s.values[0])\n",
    "        return s.values[0]\n",
    "\n",
    "train_df['condition_'] = train_df[['condition']].progress_apply(fill_condition, ohe=fill_ftrs_ohe, condition_uniq=condition_uniq, axis=1)"
   ]
  },
  {
   "cell_type": "code",
   "execution_count": null,
   "id": "a223b469-c0a2-4367-ae5e-7b996cd99170",
   "metadata": {
    "tags": []
   },
   "outputs": [],
   "source": [
    "train_df = train_df.drop(columns=['condition'])\n",
    "train_df.rename(columns={\"condition.1\": \"condition\"}, inplace=True)"
   ]
  },
  {
   "cell_type": "code",
   "execution_count": null,
   "id": "a4146fc8-9769-4793-838b-d26a190b7827",
   "metadata": {
    "tags": []
   },
   "outputs": [],
   "source": [
    "# os.makedirs('./DATA', exist_ok=True)  \n",
    "\n",
    "# train_df.to_csv('./DATA/data4.csv')"
   ]
  },
  {
   "cell_type": "code",
   "execution_count": null,
   "id": "efc76e36-cf8e-498f-ae92-c4aab5cc068b",
   "metadata": {},
   "outputs": [],
   "source": [
    "100*(train_df.isnull().sum()/len(train_df)).sort_values(ascending=False)"
   ]
  },
  {
   "cell_type": "markdown",
   "id": "a09477ae-8ea1-4c67-952d-7eb34adfc3a9",
   "metadata": {},
   "source": [
    "### Fill interior"
   ]
  },
  {
   "cell_type": "code",
   "execution_count": null,
   "id": "d2e6f72f-55af-4c2b-8e53-0572a917c072",
   "metadata": {},
   "outputs": [],
   "source": [
    "train_df = pd.read_csv('./DATA/data4.csv')"
   ]
  },
  {
   "cell_type": "code",
   "execution_count": null,
   "id": "8aecc7b1-6ee3-4af7-858c-afb0c8951947",
   "metadata": {
    "tags": []
   },
   "outputs": [],
   "source": [
    "import gc\n",
    "gc.collect()\n",
    "df = train_df.drop(columns=['vin'])\n",
    "# кодирование данных\n",
    "train_ftrs = df.dropna(subset=['interior'])\n",
    "train_ftrs = train_ftrs.loc[train_ftrs['interior'] != '—']\n",
    "train_ftrs_no_trnsm = train_ftrs.drop(columns=['interior'])\n",
    "fill_ftrs = df.loc[(df['interior'].isna()) | (df['interior'] == '—')].drop(columns=['interior'])\n",
    "\n",
    "ftrs = pd.concat([train_ftrs_no_trnsm, fill_ftrs])\n",
    "train_trnsm_target = train_ftrs['interior']\n",
    "\n",
    "ftrs_ohe = pd.get_dummies(ftrs, drop_first=True)\n",
    "\n",
    "train_ftrs_ohe = ftrs_ohe[:len(train_ftrs)]\n",
    "fill_ftrs_ohe = ftrs_ohe[len(train_ftrs):]"
   ]
  },
  {
   "cell_type": "code",
   "execution_count": null,
   "id": "5afe4566-66cc-4001-b8dd-98bcd13420de",
   "metadata": {},
   "outputs": [],
   "source": [
    "model = CatBoostClassifier(iterations=1000,\n",
    "                           task_type=\"GPU\",\n",
    "                           devices='0')\n",
    "\n",
    "\n",
    "model.fit(train_ftrs_ohe,\n",
    "          train_trnsm_target,\n",
    "          verbose=False)"
   ]
  },
  {
   "cell_type": "code",
   "execution_count": null,
   "id": "f0dbadfb-fcdd-4d04-b6e4-56a0fc214ff6",
   "metadata": {},
   "outputs": [],
   "source": [
    "interior_uniq = train_df['interior'].dropna().unique()"
   ]
  },
  {
   "cell_type": "code",
   "execution_count": null,
   "id": "3574b589-9de2-4141-ac97-f9781daa00ae",
   "metadata": {},
   "outputs": [],
   "source": [
    "interior_uniq = interior_uniq[interior_uniq != '—']"
   ]
  },
  {
   "cell_type": "code",
   "execution_count": null,
   "id": "0818e2cc-de46-464f-b46c-e50e6c0e244b",
   "metadata": {},
   "outputs": [],
   "source": [
    "interior_uniq"
   ]
  },
  {
   "cell_type": "code",
   "execution_count": null,
   "id": "5e514be1-38c2-4383-830a-f4604223cff4",
   "metadata": {},
   "outputs": [],
   "source": [
    "fill_ftrs_ohe.head()"
   ]
  },
  {
   "cell_type": "code",
   "execution_count": null,
   "id": "dc5543dd-fec0-49ca-ad04-6bd1d0d25190",
   "metadata": {
    "tags": []
   },
   "outputs": [],
   "source": [
    "from tqdm import tqdm\n",
    "from tqdm.gui import tqdm as tqdm_gui\n",
    "tqdm.pandas(ncols=50)\n",
    "\n",
    "def fill_interior(s, ohe, interior_uniq):\n",
    "    if s.values[0] not in interior_uniq:\n",
    "        idx = [s.name][0]\n",
    "        # try:\n",
    "        ohe_sample = ohe.loc[idx]\n",
    "        t = model.predict(ohe_sample) #, task_type='GPU')\n",
    "        # print('0', t[0])\n",
    "        return t[0]\n",
    "        # except:\n",
    "        #     print(idx)\n",
    "    else:\n",
    "        # print('1', s.values[0])\n",
    "        return s.values[0]\n",
    "\n",
    "train_df['interior_'] = train_df[['interior']].progress_apply(fill_interior, ohe=fill_ftrs_ohe, interior_uniq=interior_uniq, axis=1)"
   ]
  },
  {
   "cell_type": "code",
   "execution_count": null,
   "id": "cf361c26-a6d8-4b9c-ad55-1371fd2489ac",
   "metadata": {},
   "outputs": [],
   "source": [
    "train_df['interior_'].unique()"
   ]
  },
  {
   "cell_type": "code",
   "execution_count": null,
   "id": "14ca37c6-9843-43b2-9f16-9addd4f59ad6",
   "metadata": {},
   "outputs": [],
   "source": [
    "train_df['interior'] = train_df['interior_']"
   ]
  },
  {
   "cell_type": "code",
   "execution_count": null,
   "id": "8d551599-faf5-4e44-97fb-0fede0d04a18",
   "metadata": {},
   "outputs": [],
   "source": [
    "train_df = train_df.drop(columns=['interior_'])"
   ]
  },
  {
   "cell_type": "code",
   "execution_count": null,
   "id": "7db52a34-8d3b-4f42-8c53-2f20530bc3d6",
   "metadata": {},
   "outputs": [],
   "source": [
    "# import os\n",
    "# os.makedirs('./DATA', exist_ok=True)  \n",
    "# train_df.to_csv('./DATA/data5.csv')"
   ]
  },
  {
   "cell_type": "markdown",
   "id": "a40abd95-f969-459b-b25b-856f91c09430",
   "metadata": {},
   "source": [
    "### Fill color"
   ]
  },
  {
   "cell_type": "code",
   "execution_count": null,
   "id": "1e65bba0-7ddd-49b0-8a18-0d3ccd68f12e",
   "metadata": {},
   "outputs": [],
   "source": [
    "train_df['color'].unique()"
   ]
  },
  {
   "cell_type": "code",
   "execution_count": null,
   "id": "0b2856b0-a51c-4a51-982f-4abd88a3f5a2",
   "metadata": {},
   "outputs": [],
   "source": [
    "import gc\n",
    "gc.collect()\n",
    "df = train_df.drop(columns=['vin'])\n",
    "# кодирование данных\n",
    "train_ftrs = df.dropna(subset=['color'])\n",
    "train_ftrs = train_ftrs.loc[train_ftrs['color'] != '—']\n",
    "train_ftrs_no_trnsm = train_ftrs.drop(columns=['color'])\n",
    "fill_ftrs = df.loc[(df['color'].isna()) | (df['color'] == '—')].drop(columns=['color'])\n",
    "\n",
    "ftrs = pd.concat([train_ftrs_no_trnsm, fill_ftrs])\n",
    "train_trnsm_target = train_ftrs['color']\n",
    "\n",
    "ftrs_ohe = pd.get_dummies(ftrs, drop_first=True)\n",
    "\n",
    "train_ftrs_ohe = ftrs_ohe[:len(train_ftrs)]\n",
    "fill_ftrs_ohe = ftrs_ohe[len(train_ftrs):]"
   ]
  },
  {
   "cell_type": "code",
   "execution_count": null,
   "id": "8e693bc2-1277-41cf-8a0d-dc1e7fc5300a",
   "metadata": {},
   "outputs": [],
   "source": [
    "model = CatBoostClassifier(iterations=1000,\n",
    "                           task_type=\"GPU\",\n",
    "                           devices='0')\n",
    "\n",
    "\n",
    "model.fit(train_ftrs_ohe,\n",
    "          train_trnsm_target,\n",
    "          verbose=False)"
   ]
  },
  {
   "cell_type": "code",
   "execution_count": null,
   "id": "f8fa51c2-22fb-424b-a11e-36a6e5017f17",
   "metadata": {},
   "outputs": [],
   "source": [
    "color_uniq = train_df['color'].dropna().unique()"
   ]
  },
  {
   "cell_type": "code",
   "execution_count": null,
   "id": "5979bbdd-eb97-4524-8be2-5a2cceb18674",
   "metadata": {},
   "outputs": [],
   "source": [
    "color_uniq = color_uniq[color_uniq != '—']"
   ]
  },
  {
   "cell_type": "code",
   "execution_count": null,
   "id": "79f3eac2-902d-499b-908d-c70afbab8869",
   "metadata": {},
   "outputs": [],
   "source": [
    "color_uniq"
   ]
  },
  {
   "cell_type": "code",
   "execution_count": null,
   "id": "5e811743-0825-435a-8920-d2d11b57e9fb",
   "metadata": {
    "tags": []
   },
   "outputs": [],
   "source": [
    "from tqdm import tqdm\n",
    "from tqdm.gui import tqdm as tqdm_gui\n",
    "tqdm.pandas(ncols=50)\n",
    "\n",
    "def fill_color(s, ohe, color_uniq):\n",
    "    if s.values[0] not in color_uniq:\n",
    "        idx = [s.name][0]\n",
    "        # try:\n",
    "        ohe_sample = ohe.loc[idx]\n",
    "        t = model.predict(ohe_sample) #, task_type='GPU')\n",
    "        # print('0', t[0])\n",
    "        return t[0]\n",
    "        # except:\n",
    "        #     print(idx)\n",
    "    else:\n",
    "        # print('1', s.values[0])\n",
    "        return s.values[0]\n",
    "\n",
    "train_df['color_'] = train_df[['color']].progress_apply(fill_color, ohe=fill_ftrs_ohe, color_uniq=color_uniq, axis=1)"
   ]
  },
  {
   "cell_type": "code",
   "execution_count": null,
   "id": "a031af6b-ee73-4850-8b20-2f96a829acfd",
   "metadata": {},
   "outputs": [],
   "source": [
    "train_df['color_'].unique()"
   ]
  },
  {
   "cell_type": "code",
   "execution_count": null,
   "id": "1e39a8f2-831b-424d-9ef4-6e4f4e09ef25",
   "metadata": {},
   "outputs": [],
   "source": [
    "train_df['color'] = train_df['color_']"
   ]
  },
  {
   "cell_type": "code",
   "execution_count": null,
   "id": "25e9b091-05ef-4ec5-a26d-fe64f1b30c4e",
   "metadata": {},
   "outputs": [],
   "source": [
    "train_df = train_df.drop(columns=['color_'])"
   ]
  },
  {
   "cell_type": "code",
   "execution_count": null,
   "id": "bd21c2c6-6bf6-4a91-a766-ab1dd319a402",
   "metadata": {},
   "outputs": [],
   "source": [
    "# os.makedirs('./DATA', exist_ok=True)  \n",
    "# train_df.to_csv('./DATA/data6.csv')"
   ]
  },
  {
   "cell_type": "markdown",
   "id": "5e36c5ec-741e-469c-9766-09af383c391e",
   "metadata": {},
   "source": [
    "### Кодируем данные и обучаем нейросетевую модель"
   ]
  },
  {
   "cell_type": "code",
   "execution_count": 3,
   "id": "7689ad58-d700-49be-a743-b779abc119dc",
   "metadata": {
    "tags": []
   },
   "outputs": [],
   "source": [
    "train_df_ = pd.read_csv('./data6.csv')"
   ]
  },
  {
   "cell_type": "code",
   "execution_count": 4,
   "id": "0284bb12-f4f3-45a5-af86-15bb7bb91f04",
   "metadata": {
    "tags": []
   },
   "outputs": [],
   "source": [
    "train_df_ = train_df_.dropna(subset=['odometer'])"
   ]
  },
  {
   "cell_type": "code",
   "execution_count": 5,
   "id": "317405fe-60f5-41ff-abdb-0159034ba20c",
   "metadata": {
    "tags": []
   },
   "outputs": [],
   "source": [
    "import gc\n",
    "gc.collect()\n",
    "# кодирование данных\n",
    "train_ftrs = train_df_.drop(columns=['sellingprice'])\n",
    "train_target = train_df_['sellingprice']\n",
    "test_ftrs = test_df"
   ]
  },
  {
   "cell_type": "code",
   "execution_count": 6,
   "id": "2f053201-f25a-4573-91f6-21abf2c6b36f",
   "metadata": {
    "tags": []
   },
   "outputs": [],
   "source": [
    "train_ftrs = train_ftrs.drop(columns=['Unnamed: 0.3', 'Unnamed: 0.2', 'Unnamed: 0.1', 'Unnamed: 0'])\n",
    "# train_ftrs['vin'] = train_ftrs['vin'].astype(\"string\")\n",
    "# test_ftrs['vin'] = test_ftrs['vin'].astype(\"string\")"
   ]
  },
  {
   "cell_type": "code",
   "execution_count": 7,
   "id": "7a74aca6-fbfc-4f9b-81d6-978676519db6",
   "metadata": {
    "tags": []
   },
   "outputs": [
    {
     "name": "stdout",
     "output_type": "stream",
     "text": [
      "['make', 'model', 'trim', 'body', 'transmission', 'vin', 'state', 'color', 'interior', 'seller', 'saledate']\n",
      "['year', 'condition', 'odometer']\n"
     ]
    }
   ],
   "source": [
    "oe_features = test_ftrs.select_dtypes(include='object').columns.to_list()\n",
    "print(oe_features)\n",
    "\n",
    "num_features = test_ftrs.select_dtypes(exclude='object').columns.to_list()\n",
    "print(num_features)"
   ]
  },
  {
   "cell_type": "code",
   "execution_count": 8,
   "id": "89d4ba2a-4758-4700-b710-27758f2e416c",
   "metadata": {
    "tags": []
   },
   "outputs": [],
   "source": [
    "# train_ftrs['saledate'] = pd.to_datetime(train_ftrs['saledate'])"
   ]
  },
  {
   "cell_type": "code",
   "execution_count": 9,
   "id": "f8ce25f5-f67c-474d-b5b9-e1d0e2c8bd83",
   "metadata": {
    "tags": []
   },
   "outputs": [
    {
     "data": {
      "text/html": [
       "<div>\n",
       "<style scoped>\n",
       "    .dataframe tbody tr th:only-of-type {\n",
       "        vertical-align: middle;\n",
       "    }\n",
       "\n",
       "    .dataframe tbody tr th {\n",
       "        vertical-align: top;\n",
       "    }\n",
       "\n",
       "    .dataframe thead th {\n",
       "        text-align: right;\n",
       "    }\n",
       "</style>\n",
       "<table border=\"1\" class=\"dataframe\">\n",
       "  <thead>\n",
       "    <tr style=\"text-align: right;\">\n",
       "      <th></th>\n",
       "      <th>year</th>\n",
       "      <th>make</th>\n",
       "      <th>model</th>\n",
       "      <th>trim</th>\n",
       "      <th>vin</th>\n",
       "      <th>state</th>\n",
       "      <th>odometer</th>\n",
       "      <th>color</th>\n",
       "      <th>interior</th>\n",
       "      <th>seller</th>\n",
       "      <th>saledate</th>\n",
       "      <th>transmission</th>\n",
       "      <th>body</th>\n",
       "      <th>condition</th>\n",
       "    </tr>\n",
       "  </thead>\n",
       "  <tbody>\n",
       "    <tr>\n",
       "      <th>0</th>\n",
       "      <td>0.241104</td>\n",
       "      <td>14330.110721</td>\n",
       "      <td>18820.192836</td>\n",
       "      <td>14299.814159</td>\n",
       "      <td>12500.0</td>\n",
       "      <td>7451.402171</td>\n",
       "      <td>0.797425</td>\n",
       "      <td>15937.819638</td>\n",
       "      <td>15699.318277</td>\n",
       "      <td>7904.551314</td>\n",
       "      <td>12786.384043</td>\n",
       "      <td>13666.233544</td>\n",
       "      <td>16350.222382</td>\n",
       "      <td>0.829916</td>\n",
       "    </tr>\n",
       "    <tr>\n",
       "      <th>1</th>\n",
       "      <td>0.995445</td>\n",
       "      <td>14330.110721</td>\n",
       "      <td>12363.739115</td>\n",
       "      <td>11221.886419</td>\n",
       "      <td>14500.0</td>\n",
       "      <td>14460.621405</td>\n",
       "      <td>-0.696870</td>\n",
       "      <td>15937.819638</td>\n",
       "      <td>15699.318277</td>\n",
       "      <td>18163.529974</td>\n",
       "      <td>15260.335085</td>\n",
       "      <td>13666.233544</td>\n",
       "      <td>11597.344262</td>\n",
       "      <td>0.101571</td>\n",
       "    </tr>\n",
       "    <tr>\n",
       "      <th>2</th>\n",
       "      <td>0.492551</td>\n",
       "      <td>13821.337654</td>\n",
       "      <td>8743.164610</td>\n",
       "      <td>8540.426190</td>\n",
       "      <td>9100.0</td>\n",
       "      <td>13630.868545</td>\n",
       "      <td>-0.611235</td>\n",
       "      <td>15937.819638</td>\n",
       "      <td>15699.318277</td>\n",
       "      <td>13808.317065</td>\n",
       "      <td>13089.808093</td>\n",
       "      <td>13666.233544</td>\n",
       "      <td>12661.809255</td>\n",
       "      <td>-1.251071</td>\n",
       "    </tr>\n",
       "    <tr>\n",
       "      <th>3</th>\n",
       "      <td>-1.770471</td>\n",
       "      <td>15187.838135</td>\n",
       "      <td>18499.897110</td>\n",
       "      <td>13827.544599</td>\n",
       "      <td>13300.0</td>\n",
       "      <td>13159.907150</td>\n",
       "      <td>1.175822</td>\n",
       "      <td>8267.331053</td>\n",
       "      <td>13255.691495</td>\n",
       "      <td>16436.773787</td>\n",
       "      <td>15369.754325</td>\n",
       "      <td>13666.233544</td>\n",
       "      <td>16350.222382</td>\n",
       "      <td>-0.626775</td>\n",
       "    </tr>\n",
       "    <tr>\n",
       "      <th>4</th>\n",
       "      <td>-0.764683</td>\n",
       "      <td>14330.110721</td>\n",
       "      <td>12363.739115</td>\n",
       "      <td>14299.814159</td>\n",
       "      <td>1300.0</td>\n",
       "      <td>7451.402171</td>\n",
       "      <td>1.108734</td>\n",
       "      <td>15937.819638</td>\n",
       "      <td>15699.318277</td>\n",
       "      <td>904.942686</td>\n",
       "      <td>10332.428964</td>\n",
       "      <td>13666.233544</td>\n",
       "      <td>11597.344262</td>\n",
       "      <td>-1.459170</td>\n",
       "    </tr>\n",
       "  </tbody>\n",
       "</table>\n",
       "</div>"
      ],
      "text/plain": [
       "       year          make         model          trim      vin         state  \\\n",
       "0  0.241104  14330.110721  18820.192836  14299.814159  12500.0   7451.402171   \n",
       "1  0.995445  14330.110721  12363.739115  11221.886419  14500.0  14460.621405   \n",
       "2  0.492551  13821.337654   8743.164610   8540.426190   9100.0  13630.868545   \n",
       "3 -1.770471  15187.838135  18499.897110  13827.544599  13300.0  13159.907150   \n",
       "4 -0.764683  14330.110721  12363.739115  14299.814159   1300.0   7451.402171   \n",
       "\n",
       "   odometer         color      interior        seller      saledate  \\\n",
       "0  0.797425  15937.819638  15699.318277   7904.551314  12786.384043   \n",
       "1 -0.696870  15937.819638  15699.318277  18163.529974  15260.335085   \n",
       "2 -0.611235  15937.819638  15699.318277  13808.317065  13089.808093   \n",
       "3  1.175822   8267.331053  13255.691495  16436.773787  15369.754325   \n",
       "4  1.108734  15937.819638  15699.318277    904.942686  10332.428964   \n",
       "\n",
       "   transmission          body  condition  \n",
       "0  13666.233544  16350.222382   0.829916  \n",
       "1  13666.233544  11597.344262   0.101571  \n",
       "2  13666.233544  12661.809255  -1.251071  \n",
       "3  13666.233544  16350.222382  -0.626775  \n",
       "4  13666.233544  11597.344262  -1.459170  "
      ]
     },
     "execution_count": 9,
     "metadata": {},
     "output_type": "execute_result"
    }
   ],
   "source": [
    "ord_enc = TargetEncoder(target_type='continuous')\n",
    "\n",
    "test_ftrs[oe_features] = test_ftrs[oe_features].astype('str')\n",
    "\n",
    "ord_enc.fit(train_ftrs[oe_features], train_target)\n",
    "\n",
    "train_ftrs[\n",
    "    ord_enc.get_feature_names_out()\n",
    "] = ord_enc.transform(train_ftrs[oe_features])\n",
    "\n",
    "scaler = StandardScaler()\n",
    "\n",
    "train_ftrs[num_features] = scaler.fit_transform(train_ftrs[num_features])\n",
    "\n",
    "train_ftrs.head()"
   ]
  },
  {
   "cell_type": "code",
   "execution_count": 10,
   "id": "64538ff6-a76b-492d-832d-b5fc55914a82",
   "metadata": {
    "tags": []
   },
   "outputs": [
    {
     "data": {
      "text/html": [
       "<div>\n",
       "<style scoped>\n",
       "    .dataframe tbody tr th:only-of-type {\n",
       "        vertical-align: middle;\n",
       "    }\n",
       "\n",
       "    .dataframe tbody tr th {\n",
       "        vertical-align: top;\n",
       "    }\n",
       "\n",
       "    .dataframe thead th {\n",
       "        text-align: right;\n",
       "    }\n",
       "</style>\n",
       "<table border=\"1\" class=\"dataframe\">\n",
       "  <thead>\n",
       "    <tr style=\"text-align: right;\">\n",
       "      <th></th>\n",
       "      <th>year</th>\n",
       "      <th>make</th>\n",
       "      <th>model</th>\n",
       "      <th>trim</th>\n",
       "      <th>body</th>\n",
       "      <th>transmission</th>\n",
       "      <th>vin</th>\n",
       "      <th>state</th>\n",
       "      <th>condition</th>\n",
       "      <th>odometer</th>\n",
       "      <th>color</th>\n",
       "      <th>interior</th>\n",
       "      <th>seller</th>\n",
       "      <th>saledate</th>\n",
       "    </tr>\n",
       "  </thead>\n",
       "  <tbody>\n",
       "    <tr>\n",
       "      <th>0</th>\n",
       "      <td>-1.267577</td>\n",
       "      <td>13591.762323</td>\n",
       "      <td>10822.905828</td>\n",
       "      <td>13827.544599</td>\n",
       "      <td>11597.344262</td>\n",
       "      <td>13666.233544</td>\n",
       "      <td>13591.762323</td>\n",
       "      <td>14538.722695</td>\n",
       "      <td>-0.730824</td>\n",
       "      <td>0.908161</td>\n",
       "      <td>11736.344876</td>\n",
       "      <td>15699.318277</td>\n",
       "      <td>11561.477033</td>\n",
       "      <td>10619.562845</td>\n",
       "    </tr>\n",
       "    <tr>\n",
       "      <th>1</th>\n",
       "      <td>0.995445</td>\n",
       "      <td>13591.762323</td>\n",
       "      <td>19508.032226</td>\n",
       "      <td>15470.347913</td>\n",
       "      <td>13159.180205</td>\n",
       "      <td>13591.762323</td>\n",
       "      <td>13591.762323</td>\n",
       "      <td>15940.731303</td>\n",
       "      <td>1.038015</td>\n",
       "      <td>-1.159089</td>\n",
       "      <td>14969.753026</td>\n",
       "      <td>10785.926873</td>\n",
       "      <td>19843.005553</td>\n",
       "      <td>16726.987978</td>\n",
       "    </tr>\n",
       "    <tr>\n",
       "      <th>2</th>\n",
       "      <td>0.743998</td>\n",
       "      <td>13591.762323</td>\n",
       "      <td>13043.968800</td>\n",
       "      <td>12542.139008</td>\n",
       "      <td>15263.320827</td>\n",
       "      <td>13666.233544</td>\n",
       "      <td>13591.762323</td>\n",
       "      <td>14426.105058</td>\n",
       "      <td>1.246114</td>\n",
       "      <td>-1.055525</td>\n",
       "      <td>13979.836220</td>\n",
       "      <td>15699.318277</td>\n",
       "      <td>13808.317065</td>\n",
       "      <td>15111.910902</td>\n",
       "    </tr>\n",
       "    <tr>\n",
       "      <th>3</th>\n",
       "      <td>0.743998</td>\n",
       "      <td>13591.762323</td>\n",
       "      <td>7968.639557</td>\n",
       "      <td>9822.211200</td>\n",
       "      <td>11597.344262</td>\n",
       "      <td>13666.233544</td>\n",
       "      <td>13591.762323</td>\n",
       "      <td>13832.647271</td>\n",
       "      <td>-1.147022</td>\n",
       "      <td>-0.209940</td>\n",
       "      <td>11736.344876</td>\n",
       "      <td>15699.318277</td>\n",
       "      <td>9475.137188</td>\n",
       "      <td>11248.015742</td>\n",
       "    </tr>\n",
       "    <tr>\n",
       "      <th>4</th>\n",
       "      <td>0.743998</td>\n",
       "      <td>13591.762323</td>\n",
       "      <td>13230.263371</td>\n",
       "      <td>15259.211384</td>\n",
       "      <td>21251.612480</td>\n",
       "      <td>13666.233544</td>\n",
       "      <td>13591.762323</td>\n",
       "      <td>16973.935757</td>\n",
       "      <td>-0.522726</td>\n",
       "      <td>-0.695955</td>\n",
       "      <td>15937.819638</td>\n",
       "      <td>15699.318277</td>\n",
       "      <td>22207.908343</td>\n",
       "      <td>16526.735792</td>\n",
       "    </tr>\n",
       "  </tbody>\n",
       "</table>\n",
       "</div>"
      ],
      "text/plain": [
       "       year          make         model          trim          body  \\\n",
       "0 -1.267577  13591.762323  10822.905828  13827.544599  11597.344262   \n",
       "1  0.995445  13591.762323  19508.032226  15470.347913  13159.180205   \n",
       "2  0.743998  13591.762323  13043.968800  12542.139008  15263.320827   \n",
       "3  0.743998  13591.762323   7968.639557   9822.211200  11597.344262   \n",
       "4  0.743998  13591.762323  13230.263371  15259.211384  21251.612480   \n",
       "\n",
       "   transmission           vin         state  condition  odometer  \\\n",
       "0  13666.233544  13591.762323  14538.722695  -0.730824  0.908161   \n",
       "1  13591.762323  13591.762323  15940.731303   1.038015 -1.159089   \n",
       "2  13666.233544  13591.762323  14426.105058   1.246114 -1.055525   \n",
       "3  13666.233544  13591.762323  13832.647271  -1.147022 -0.209940   \n",
       "4  13666.233544  13591.762323  16973.935757  -0.522726 -0.695955   \n",
       "\n",
       "          color      interior        seller      saledate  \n",
       "0  11736.344876  15699.318277  11561.477033  10619.562845  \n",
       "1  14969.753026  10785.926873  19843.005553  16726.987978  \n",
       "2  13979.836220  15699.318277  13808.317065  15111.910902  \n",
       "3  11736.344876  15699.318277   9475.137188  11248.015742  \n",
       "4  15937.819638  15699.318277  22207.908343  16526.735792  "
      ]
     },
     "execution_count": 10,
     "metadata": {},
     "output_type": "execute_result"
    }
   ],
   "source": [
    "test_ftrs[\n",
    "    ord_enc.get_feature_names_out()\n",
    "] = ord_enc.transform(test_ftrs[oe_features])\n",
    "\n",
    "test_ftrs[num_features] = scaler.transform(\n",
    "    test_ftrs[num_features]\n",
    ")\n",
    "\n",
    "test_ftrs.head()"
   ]
  },
  {
   "cell_type": "code",
   "execution_count": 11,
   "id": "cc10abd0-006f-41b4-af34-00618df5b0d4",
   "metadata": {
    "tags": []
   },
   "outputs": [],
   "source": [
    "features_train, features_valid, target_train, target_valid = train_test_split(train_ftrs, train_target, test_size=0.2, train_size=0.8)"
   ]
  },
  {
   "cell_type": "code",
   "execution_count": 12,
   "id": "4a2d059a-1379-41d9-a819-42f82aabb9af",
   "metadata": {
    "tags": []
   },
   "outputs": [],
   "source": [
    "class Net(nn.Module):\n",
    "    def __init__(self):\n",
    "        super().__init__()\n",
    "        \n",
    "        self.net = nn.Sequential(\n",
    "          nn.Linear(14, 64),\n",
    "          nn.ReLU(),\n",
    "          nn.Linear(64, 128),\n",
    "          nn.ReLU(),\n",
    "          nn.Linear(128, 128),\n",
    "          nn.ReLU(),\n",
    "          nn.Linear(128, 64),\n",
    "          nn.ReLU(),\n",
    "          nn.Linear(64, 32),\n",
    "          nn.ReLU(),\n",
    "          nn.Linear(32, 8),\n",
    "          nn.ReLU(),\n",
    "          nn.Linear(8, 1))\n",
    "    def forward(self, x):\n",
    "        y = self.net(x)\n",
    "        return y"
   ]
  },
  {
   "cell_type": "code",
   "execution_count": 13,
   "id": "89e91ee2-4218-43bc-9245-a74d9257731b",
   "metadata": {
    "tags": []
   },
   "outputs": [],
   "source": [
    "model = Net()"
   ]
  },
  {
   "cell_type": "code",
   "execution_count": 14,
   "id": "2b282c05-6392-459b-a637-be220daa06df",
   "metadata": {
    "tags": []
   },
   "outputs": [],
   "source": [
    "class CustomDateset(Dataset):\n",
    "    def __init__(self, data, target):\n",
    "        self.data = data\n",
    "        self.y = target\n",
    "        \n",
    "    def __getitem__(self, idx):\n",
    "        features = self.data.iloc[[idx]]\n",
    "        y = self.y.iloc[[idx]]\n",
    "        \n",
    "        return T.Tensor(features.values), T.Tensor(y.values)\n",
    "  \n",
    "    def __len__(self):\n",
    "        return len(self.data)\n",
    "\n",
    "ds_train = CustomDateset(data=features_train, target=target_train)\n",
    "ds_val = CustomDateset(data=features_valid, target=target_valid)\n",
    "\n",
    "#dataloader\n",
    "from torch.utils.data import DataLoader \n",
    "\n",
    "train_loader = DataLoader(ds_train,shuffle=True,batch_size=12)\n",
    "val_loader = DataLoader(ds_val,shuffle=True,batch_size=12)"
   ]
  },
  {
   "cell_type": "code",
   "execution_count": 15,
   "id": "6b939e15-0f9d-44b8-a8d4-fbad9755474d",
   "metadata": {
    "tags": []
   },
   "outputs": [],
   "source": [
    "def train(model, epochs, loader):\n",
    "    criterion = nn.MSELoss()\n",
    "    optimizer = optim.Adam(model.parameters(), lr=0.05) # lr=0.001\n",
    "    scheduler = StepLR(optimizer, step_size=3, gamma=0.97)\n",
    "    \n",
    "    model.to('cuda')\n",
    "    model.train()\n",
    "    for epoch in range(epochs):\n",
    "        running_train_loss = 0\n",
    "        running_train_mape = 0\n",
    "        for data in tqdm(loader, ncols=100):\n",
    "            features, target = data[0].squeeze(), data[1].squeeze()\n",
    "            optimizer.zero_grad()\n",
    "            \n",
    "            features = T.tensor(features).to('cuda').requires_grad_(True)\n",
    "            target = T.tensor(target).to('cuda').requires_grad_(True)\n",
    "            \n",
    "            out = model.forward(features)\n",
    "            # print('out', out[0])\n",
    "            # print('target', target)\n",
    "            \n",
    "            out = out.squeeze(dim=1)\n",
    "            # target = target.unsqueeze(dim=0)\n",
    "            loss = criterion(out, target)\n",
    "            predict = out.cpu().detach().numpy()\n",
    "            y = target.cpu().detach().numpy()\n",
    "            mape = MAPE(predict, y)\n",
    "            \n",
    "            loss.backward()\n",
    "            optimizer.step()\n",
    "            scheduler.step()\n",
    "            \n",
    "            running_train_loss += loss.item()\n",
    "            running_train_mape += mape.item()\n",
    "        \n",
    "        print(f' Epoch       {epoch + 1}\\n', \n",
    "              f'loss:      {running_train_loss / len(loader)}\\n',\n",
    "              f'mape: {running_train_mape / len(loader)}')\n",
    "        print('-------------------------------------------')\n",
    "    T.save(model, './model')"
   ]
  },
  {
   "cell_type": "code",
   "execution_count": 16,
   "id": "15c0a4fd-806b-4697-9d51-8dd6217f6ba1",
   "metadata": {
    "tags": []
   },
   "outputs": [
    {
     "name": "stderr",
     "output_type": "stream",
     "text": [
      "100%|█████████████████████████████████████████████████████████| 29343/29343 [05:12<00:00, 93.92it/s]\n"
     ]
    },
    {
     "name": "stdout",
     "output_type": "stream",
     "text": [
      " Epoch       1\n",
      " loss:      2691465.133392254\n",
      " mape: 10.70437938942646\n",
      "-------------------------------------------\n"
     ]
    },
    {
     "name": "stderr",
     "output_type": "stream",
     "text": [
      "100%|█████████████████████████████████████████████████████████| 29343/29343 [05:09<00:00, 94.69it/s]\n"
     ]
    },
    {
     "name": "stdout",
     "output_type": "stream",
     "text": [
      " Epoch       2\n",
      " loss:      399160.97639795905\n",
      " mape: 0.09767651035419389\n",
      "-------------------------------------------\n"
     ]
    },
    {
     "name": "stderr",
     "output_type": "stream",
     "text": [
      "100%|█████████████████████████████████████████████████████████| 29343/29343 [05:09<00:00, 94.66it/s]"
     ]
    },
    {
     "name": "stdout",
     "output_type": "stream",
     "text": [
      " Epoch       3\n",
      " loss:      399158.061542574\n",
      " mape: 0.09767639831465673\n",
      "-------------------------------------------\n"
     ]
    },
    {
     "name": "stderr",
     "output_type": "stream",
     "text": [
      "\n"
     ]
    }
   ],
   "source": [
    "train(model=model, epochs=3, loader=train_loader)"
   ]
  },
  {
   "cell_type": "markdown",
   "id": "70a6aee1-db8e-4471-9221-22ceeaaefd3b",
   "metadata": {},
   "source": [
    "### Заполняем колонку 'price' предсказаниями обученной модели"
   ]
  },
  {
   "cell_type": "code",
   "execution_count": 18,
   "id": "0635ed4e-e39a-4b36-9c91-687da678e109",
   "metadata": {},
   "outputs": [],
   "source": [
    "from tqdm._tqdm_notebook import tqdm_notebook\n",
    "import pandas as pd\n",
    "tqdm_notebook.pandas()\n",
    "\n",
    "def fill_test_target(s):\n",
    "    t = model(T.Tensor(s.values).to('cuda')) #, task_type='GPU')\n",
    "    return t[0].item()\n",
    "\n",
    "\n",
    "test_ftrs_ = test_ftrs\n",
    "test_ftrs_['price'] = test_ftrs.apply(fill_test_target, axis=1)"
   ]
  },
  {
   "cell_type": "code",
   "execution_count": 19,
   "id": "d3a1acf5-0162-498c-93a2-4296196a8dbe",
   "metadata": {
    "tags": []
   },
   "outputs": [],
   "source": [
    "# print(train_df['sellingprice'][15])\n",
    "# print(train_df.iloc[15])\n",
    "# print(train_ftrs.iloc[15].values)\n",
    "# print('predict:', model(T.Tensor(train_ftrs.iloc[15].values).to('cuda')))"
   ]
  },
  {
   "cell_type": "code",
   "execution_count": 23,
   "id": "5dac0a5f-4ad0-437f-a1dd-a13d4499ca6c",
   "metadata": {
    "tags": []
   },
   "outputs": [],
   "source": [
    "test_df['price'] = test_ftrs_['price']"
   ]
  },
  {
   "cell_type": "code",
   "execution_count": 24,
   "id": "97ed0c70-1b22-43c5-9c6b-d70269802af7",
   "metadata": {
    "tags": []
   },
   "outputs": [
    {
     "data": {
      "text/html": [
       "<div>\n",
       "<style scoped>\n",
       "    .dataframe tbody tr th:only-of-type {\n",
       "        vertical-align: middle;\n",
       "    }\n",
       "\n",
       "    .dataframe tbody tr th {\n",
       "        vertical-align: top;\n",
       "    }\n",
       "\n",
       "    .dataframe thead th {\n",
       "        text-align: right;\n",
       "    }\n",
       "</style>\n",
       "<table border=\"1\" class=\"dataframe\">\n",
       "  <thead>\n",
       "    <tr style=\"text-align: right;\">\n",
       "      <th></th>\n",
       "      <th>year</th>\n",
       "      <th>make</th>\n",
       "      <th>model</th>\n",
       "      <th>trim</th>\n",
       "      <th>body</th>\n",
       "      <th>transmission</th>\n",
       "      <th>vin</th>\n",
       "      <th>state</th>\n",
       "      <th>condition</th>\n",
       "      <th>odometer</th>\n",
       "      <th>color</th>\n",
       "      <th>interior</th>\n",
       "      <th>seller</th>\n",
       "      <th>saledate</th>\n",
       "      <th>price</th>\n",
       "    </tr>\n",
       "  </thead>\n",
       "  <tbody>\n",
       "    <tr>\n",
       "      <th>0</th>\n",
       "      <td>2005</td>\n",
       "      <td>Cadillac</td>\n",
       "      <td>CTS</td>\n",
       "      <td>Base</td>\n",
       "      <td>Sedan</td>\n",
       "      <td>automatic</td>\n",
       "      <td>1g6dp567450124779</td>\n",
       "      <td>ca</td>\n",
       "      <td>2.7</td>\n",
       "      <td>116970.0</td>\n",
       "      <td>silver</td>\n",
       "      <td>black</td>\n",
       "      <td>lexus of stevens creek</td>\n",
       "      <td>Wed Jan 14 2015 04:30:00 GMT-0800 (PST)</td>\n",
       "      <td>1291.898682</td>\n",
       "    </tr>\n",
       "    <tr>\n",
       "      <th>1</th>\n",
       "      <td>2014</td>\n",
       "      <td>GMC</td>\n",
       "      <td>Savana Cargo</td>\n",
       "      <td>2500</td>\n",
       "      <td>Van</td>\n",
       "      <td>NaN</td>\n",
       "      <td>1gtw7fca7e1902207</td>\n",
       "      <td>pa</td>\n",
       "      <td>4.4</td>\n",
       "      <td>6286.0</td>\n",
       "      <td>white</td>\n",
       "      <td>gray</td>\n",
       "      <td>u-haul</td>\n",
       "      <td>Fri Feb 27 2015 01:00:00 GMT-0800 (PST)</td>\n",
       "      <td>24122.820312</td>\n",
       "    </tr>\n",
       "    <tr>\n",
       "      <th>2</th>\n",
       "      <td>2013</td>\n",
       "      <td>Nissan</td>\n",
       "      <td>Murano</td>\n",
       "      <td>S</td>\n",
       "      <td>SUV</td>\n",
       "      <td>automatic</td>\n",
       "      <td>jn8az1mw6dw303497</td>\n",
       "      <td>oh</td>\n",
       "      <td>4.6</td>\n",
       "      <td>11831.0</td>\n",
       "      <td>gray</td>\n",
       "      <td>black</td>\n",
       "      <td>nissan-infiniti lt</td>\n",
       "      <td>Tue Feb 24 2015 01:30:00 GMT-0800 (PST)</td>\n",
       "      <td>19971.445312</td>\n",
       "    </tr>\n",
       "    <tr>\n",
       "      <th>3</th>\n",
       "      <td>2013</td>\n",
       "      <td>Chevrolet</td>\n",
       "      <td>Impala</td>\n",
       "      <td>LS Fleet</td>\n",
       "      <td>Sedan</td>\n",
       "      <td>automatic</td>\n",
       "      <td>2g1wf5e34d1160703</td>\n",
       "      <td>fl</td>\n",
       "      <td>2.3</td>\n",
       "      <td>57105.0</td>\n",
       "      <td>silver</td>\n",
       "      <td>black</td>\n",
       "      <td>onemain rem/auto club of miami inc dba north dad</td>\n",
       "      <td>Fri Mar 06 2015 02:00:00 GMT-0800 (PST)</td>\n",
       "      <td>2886.768311</td>\n",
       "    </tr>\n",
       "    <tr>\n",
       "      <th>4</th>\n",
       "      <td>2013</td>\n",
       "      <td>Nissan</td>\n",
       "      <td>Titan</td>\n",
       "      <td>SV</td>\n",
       "      <td>Crew Cab</td>\n",
       "      <td>automatic</td>\n",
       "      <td>1n6aa0ec3dn301209</td>\n",
       "      <td>tn</td>\n",
       "      <td>2.9</td>\n",
       "      <td>31083.0</td>\n",
       "      <td>black</td>\n",
       "      <td>black</td>\n",
       "      <td>nissan north america inc.</td>\n",
       "      <td>Wed Jun 03 2015 03:30:00 GMT-0700 (PDT)</td>\n",
       "      <td>30995.363281</td>\n",
       "    </tr>\n",
       "  </tbody>\n",
       "</table>\n",
       "</div>"
      ],
      "text/plain": [
       "   year       make         model      trim      body transmission  \\\n",
       "0  2005   Cadillac           CTS      Base     Sedan    automatic   \n",
       "1  2014        GMC  Savana Cargo      2500       Van          NaN   \n",
       "2  2013     Nissan        Murano         S       SUV    automatic   \n",
       "3  2013  Chevrolet        Impala  LS Fleet     Sedan    automatic   \n",
       "4  2013     Nissan         Titan        SV  Crew Cab    automatic   \n",
       "\n",
       "                 vin state  condition  odometer   color interior  \\\n",
       "0  1g6dp567450124779    ca        2.7  116970.0  silver    black   \n",
       "1  1gtw7fca7e1902207    pa        4.4    6286.0   white     gray   \n",
       "2  jn8az1mw6dw303497    oh        4.6   11831.0    gray    black   \n",
       "3  2g1wf5e34d1160703    fl        2.3   57105.0  silver    black   \n",
       "4  1n6aa0ec3dn301209    tn        2.9   31083.0   black    black   \n",
       "\n",
       "                                             seller  \\\n",
       "0                            lexus of stevens creek   \n",
       "1                                            u-haul   \n",
       "2                                nissan-infiniti lt   \n",
       "3  onemain rem/auto club of miami inc dba north dad   \n",
       "4                         nissan north america inc.   \n",
       "\n",
       "                                  saledate         price  \n",
       "0  Wed Jan 14 2015 04:30:00 GMT-0800 (PST)   1291.898682  \n",
       "1  Fri Feb 27 2015 01:00:00 GMT-0800 (PST)  24122.820312  \n",
       "2  Tue Feb 24 2015 01:30:00 GMT-0800 (PST)  19971.445312  \n",
       "3  Fri Mar 06 2015 02:00:00 GMT-0800 (PST)   2886.768311  \n",
       "4  Wed Jun 03 2015 03:30:00 GMT-0700 (PDT)  30995.363281  "
      ]
     },
     "execution_count": 24,
     "metadata": {},
     "output_type": "execute_result"
    }
   ],
   "source": [
    "test_df.head()"
   ]
  },
  {
   "cell_type": "code",
   "execution_count": null,
   "id": "b037718c-83eb-48ad-9f71-1edcffe10284",
   "metadata": {},
   "outputs": [],
   "source": []
  }
 ],
 "metadata": {
  "kernelspec": {
   "display_name": "Python 3 (ipykernel)",
   "language": "python",
   "name": "python3"
  },
  "language_info": {
   "codemirror_mode": {
    "name": "ipython",
    "version": 3
   },
   "file_extension": ".py",
   "mimetype": "text/x-python",
   "name": "python",
   "nbconvert_exporter": "python",
   "pygments_lexer": "ipython3",
   "version": "3.10.12"
  }
 },
 "nbformat": 4,
 "nbformat_minor": 5
}
